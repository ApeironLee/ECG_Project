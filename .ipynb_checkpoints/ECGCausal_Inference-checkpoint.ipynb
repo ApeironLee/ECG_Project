{
 "cells": [
  {
   "cell_type": "code",
   "execution_count": 73,
   "id": "47c2a9f7",
   "metadata": {},
   "outputs": [],
   "source": [
    "import numpy as np\n",
    "import scipy.io as scp\n",
    "import random\n",
    "import matplotlib.pyplot as plt"
   ]
  },
  {
   "cell_type": "markdown",
   "id": "e05f2218",
   "metadata": {},
   "source": [
    "# Load data Martix"
   ]
  },
  {
   "cell_type": "code",
   "execution_count": 25,
   "id": "bcf145e2",
   "metadata": {},
   "outputs": [],
   "source": [
    "data = scp.loadmat(\"data.mat\")\n",
    "d = data['d']"
   ]
  },
  {
   "cell_type": "markdown",
   "id": "f44c032c",
   "metadata": {},
   "source": [
    "# Mean and Variance about the Overall RR-interval"
   ]
  },
  {
   "cell_type": "code",
   "execution_count": 35,
   "id": "84b0dfec",
   "metadata": {},
   "outputs": [
    {
     "name": "stdout",
     "output_type": "stream",
     "text": [
      "NSR:u=0.7829014072561321,sigma=0.13908375577077278\n",
      "CHF:u=0.6852479528203991,sigma=0.07828815706603545\n"
     ]
    }
   ],
   "source": [
    "all_nsr_u = d[0,7].item()\n",
    "all_nsr_sigma = d[2,7].item()\n",
    "all_chf_u = d[1,7].item()\n",
    "all_chf_sigma = d[3,7].item()\n",
    "print('NSR:u='+str(all_nsr_u)+',sigma='+str(all_nsr_sigma))\n",
    "print('CHF:u='+str(all_chf_u)+',sigma='+str(all_chf_sigma))"
   ]
  },
  {
   "cell_type": "markdown",
   "id": "8f3c6bc8",
   "metadata": {},
   "source": [
    "# Data details\n",
    "Gender:0-MALE,1-FEMALE,2-UNKOWN,Tag:0-NSR,1-CHF"
   ]
  },
  {
   "cell_type": "code",
   "execution_count": 53,
   "id": "1489c013",
   "metadata": {},
   "outputs": [
    {
     "name": "stdout",
     "output_type": "stream",
     "text": [
      "Sample:Age=38,Gender=0,Tag=0,u=0.7329270035872945,Sigma=0.14973300681532378\n"
     ]
    }
   ],
   "source": [
    "# data simplified\n",
    "age = []\n",
    "gender = []\n",
    "tag = []\n",
    "u = []\n",
    "u_nsr = []\n",
    "u_chf = []\n",
    "sigma = []\n",
    "sigma_nsr = []\n",
    "sigma_chf = []\n",
    "for i in range(83-1):\n",
    "    age.append(d[i,1].item()) \n",
    "    gender.append(d[i,2].item())\n",
    "    tag.append(d[i,3].item())\n",
    "    u.append(d[i,4].item())\n",
    "    sigma.append(d[i,5].item())\n",
    "    if d[i,3].item() == 0:\n",
    "        u_nsr.append(d[i,4].item())\n",
    "        sigma_nsr.append(d[i,5].item())\n",
    "    else:\n",
    "        u_chf.append(d[i,4].item())\n",
    "        sigma_chf.append(d[i,5].item())       \n",
    "pt = random.randrange(0,82)\n",
    "print(\"Sample:Age=\"+str(age[pt])+\",Gender=\"+str(gender[pt])+\",Tag=\"+str(tag[pt])+\",u=\"+str(u[pt])+\",Sigma=\"+str(sigma[pt]))"
   ]
  },
  {
   "cell_type": "code",
   "execution_count": 106,
   "id": "5f8d06c7",
   "metadata": {},
   "outputs": [
    {
     "data": {
      "image/png": "[encoded data removed]",
      "text/plain": [
       "<Figure size 432x288 with 1 Axes>"
      ]
     },
     "metadata": {
      "needs_background": "light"
     },
     "output_type": "display_data"
    },
    {
     "data": {
      "image/png": "[encoded data removed]",
      "text/plain": [
       "<Figure size 432x288 with 1 Axes>"
      ]
     },
     "metadata": {
      "needs_background": "light"
     },
     "output_type": "display_data"
    },
    {
     "data": {
      "image/png": "[encoded data removed]",
      "text/plain": [
       "<Figure size 432x288 with 1 Axes>"
      ]
     },
     "metadata": {
      "needs_background": "light"
     },
     "output_type": "display_data"
    },
    {
     "data": {
      "image/png": "[encoded data removed]",
      "text/plain": [
       "<Figure size 432x288 with 1 Axes>"
      ]
     },
     "metadata": {
      "needs_background": "light"
     },
     "output_type": "display_data"
    }
   ],
   "source": [
    "# fig for nsr\n",
    "N = 10\n",
    "u_nsr = np.array(u_nsr)\n",
    "max_len = max(u_nsr)-min(u_nsr)\n",
    "interval = max_len/N\n",
    "y_plot = []\n",
    "x_plot = []\n",
    "for i in range(N):\n",
    "    lb = min(u_nsr) + i*interval\n",
    "    ub = lb + interval\n",
    "    x_plot.append(round(lb,2))\n",
    "    y_plot.append(len(np.argwhere((lb<u_nsr)&(u_nsr<ub))))\n",
    "%matplotlib inline\n",
    "plt.figure()\n",
    "plt.bar(range(len(y_plot)),y_plot,tick_label=x_plot)\n",
    "plt.show()\n",
    "sigma_nsr = np.array(sigma_nsr)\n",
    "max_len = max(sigma_nsr)-min(sigma_nsr)\n",
    "interval = max_len/N\n",
    "y_plot = []\n",
    "x_plot = []\n",
    "for i in range(N):\n",
    "    lb = min(sigma_nsr) + i*interval\n",
    "    ub = lb + interval\n",
    "    x_plot.append(round(lb,2))\n",
    "    y_plot.append(len(np.argwhere((lb<sigma_nsr)&(sigma_nsr<ub))))\n",
    "plt.figure()\n",
    "plt.bar(range(len(y_plot)),y_plot,tick_label=x_plot)\n",
    "plt.show()\n",
    "# fig for chf\n",
    "N = 10\n",
    "u_chf = np.array(u_chf)\n",
    "max_len = max(u_chf)-min(u_chf)\n",
    "interval = max_len/N\n",
    "y_plot = []\n",
    "x_plot = []\n",
    "for i in range(N):\n",
    "    lb = min(u_chf) + i*interval\n",
    "    ub = lb + interval\n",
    "    x_plot.append(round(lb,2))\n",
    "    y_plot.append(len(np.argwhere((lb<u_chf)&(u_chf<ub))))\n",
    "plt.figure()\n",
    "plt.bar(range(len(y_plot)),y_plot,tick_label=x_plot)\n",
    "plt.show()\n",
    "sigma_chf = np.array(sigma_chf)\n",
    "max_len = max(sigma_chf)-min(sigma_chf)\n",
    "interval = max_len/N\n",
    "y_plot = []\n",
    "x_plot = []\n",
    "for i in range(N):\n",
    "    lb = min(sigma_chf) + i*interval\n",
    "    ub = lb + interval\n",
    "    x_plot.append(round(lb,2))\n",
    "    y_plot.append(len(np.argwhere((lb<sigma_chf)&(sigma_chf<ub))))\n",
    "plt.figure()\n",
    "plt.bar(range(len(y_plot)),y_plot,tick_label=x_plot)\n",
    "plt.show()"
   ]
  },
  {
   "cell_type": "markdown",
   "id": "5805337a",
   "metadata": {},
   "source": [
    "# Causal Effect Research\n",
    "\n",
    "Independent Treatment(Causal) Effect  \n",
    "\n",
    "$ITE = P(Positive|Treat)-P(Positive|Control)$  \n",
    "\n",
    "While ITE is first mentioned in the RCT(Random Controlled Test), it can also be a powerful tool by introducing counterfactual to measure the causal effect according to Judea Pearl's theory.\n",
    "\n",
    "Average Treatment(Causual) Effect  \n",
    "\n",
    "$ATE = \\frac{1}{N} \\sum_{i=1}^N IET_{i}$\n",
    "\n",
    "Considering the average causal effect of every individual, we get the ATE for causality measurement.\n",
    "\n",
    "The problem here is how to measure the ITE as we can't actually control and intervene the sample at the same time! Don't worry, Judea Pearl introduce a concept named counterfactual to solve this problem. We can do the counterfactual through \"matching\" or some machine learning technique.\n",
    "\n",
    "As for this problem, we introduce causal inference to measure <b>the causal relationship between gender and heart failure</b>.\n"
   ]
  },
  {
   "cell_type": "code",
   "execution_count": 222,
   "id": "b1760a7f",
   "metadata": {},
   "outputs": [
    {
     "data": {
      "text/plain": [
       "[(68, 0.849952174518287, 0.1534327996032984, 0, 0, 0),\n",
       " (67, 0.8446830611175896, 0.15489755319852397, 0, 0, 0),\n",
       " (67, 0.767196776324065, 0.11286603500592453, 1, 0, 0),\n",
       " (63, 0.7710178376547684, 0.12240438846313553, 1, 0, 0),\n",
       " (58, 0.7403309778507837, 0.15478360161306912, 1, 0, 0),\n",
       " (64, 0.6899741899413495, 0.14159380663733234, 1, 0, 0),\n",
       " (68, 0.6882874556382489, 0.15051028533949196, 0, 0, 0),\n",
       " (70, 0.7373061340156799, 0.14485334395417224, 1, 0, 0),\n",
       " (70, 0.8669258606291256, 0.1011130799406502, 1, 0, 0),\n",
       " (28, 0.7583619779590981, 0.08537128988792735, 0, 0, 0),\n",
       " (40, 0.7852682332672413, 0.12918714148176028, 0, 0, 0),\n",
       " (65, 0.8761464234843608, 0.15071643413148367, 1, 0, 0),\n",
       " (66, 0.82489138176254, 0.13115722717990955, 0, 0, 0),\n",
       " (39, 0.7317188927840127, 0.14004613551264097, 0, 0, 0),\n",
       " (60, 0.7811665088971266, 0.11164513247301495, 1, 0, 0),\n",
       " (61, 0.8205624987338325, 0.16065757366763028, 1, 0, 0),\n",
       " (64, 0.810702664645805, 0.1266335216839943, 0, 0, 0),\n",
       " (75, 0.6767284112651806, 0.11934990653855501, 0, 0, 0),\n",
       " (66, 0.7935957408680088, 0.09940574290737335, 0, 0, 0),\n",
       " (38, 0.7329270035872945, 0.14973300681532378, 0, 0, 0),\n",
       " (39, 0.8076271323493459, 0.16588701685173615, 0, 0, 0),\n",
       " (68, 0.7290399205217967, 0.15299142242294594, 0, 0, 0),\n",
       " (29, 0.8017586144360264, 0.1413238261920582, 0, 0, 0),\n",
       " (68, 0.7203788290891932, 0.11911228264269969, 1, 0, 0),\n",
       " (35, 0.7541639672838819, 0.12956450627479535, 0, 0, 0),\n",
       " (64, 0.7598605936944918, 0.16785583425146314, 1, 0, 0),\n",
       " (62, 0.8684894589429341, 0.1697611611197235, 1, 0, 0),\n",
       " (76, 0.8557182224532005, 0.18638077796130267, 0, 0, 0),\n",
       " (63, 0.8273878023153822, 0.13531764831993098, 1, 0, 0),\n",
       " (67, 0.8601099767639326, 0.17102101972483183, 0, 0, 0),\n",
       " (65, 0.7273804195804487, 0.09871549070636927, 0, 0, 0),\n",
       " (35, 0.7678277117464406, 0.13667090899449236, 0, 0, 0),\n",
       " (63, 0.714155471789118, 0.094724437736144, 1, 0, 0),\n",
       " (66, 0.7238408449123054, 0.1407646094327676, 1, 0, 0),\n",
       " (64, 0.846557966712139, 0.25781765346409946, 1, 0, 0),\n",
       " (66, 0.7606866942283109, 0.13870779116374668, 0, 0, 0),\n",
       " (63, 0.6501285326001691, 0.08438051195354881, 1, 0, 1),\n",
       " (63, 0.8162277802765459, 0.13745697874906668, 0, 0, 0),\n",
       " (71, 0.7927325255858843, 0.13029024256276092, 1, 0, 0),\n",
       " (63, 0.7898363815326854, 0.09872423676840951, 0, 0, 0),\n",
       " (64, 0.6872669033014218, 0.16055470210409756, 0, 0, 0),\n",
       " (65, 0.7000183054434787, 0.11696588706092692, 1, 0, 0),\n",
       " (59, 0.7329280291006365, 0.21907467381679682, 0, 0, 0),\n",
       " (67, 0.7374634799202084, 0.11772985634769231, 1, 0, 0),\n",
       " (73, 0.761943549466721, 0.12937878102533684, 1, 0, 0),\n",
       " (66, 0.8049563251879672, 0.1850445418215642, 0, 0, 0),\n",
       " (72, 0.850925713876774, 0.1724600274846986, 0, 0, 0),\n",
       " (62, 0.7341298048922471, 0.11660598856265957, 0, 0, 0),\n",
       " (65, 0.7958471429898156, 0.14430637860838172, 0, 0, 0),\n",
       " (65, 0.8361475392303844, 0.16782787219801207, 1, 0, 0),\n",
       " (74, 0.8362196335716969, 0.10977205735234323, 0, 0, 0),\n",
       " (67, 1.0385849172136496, 0.1236308356287725, 0, 0, 0),\n",
       " (65, 1.0325223260915009, 0.15895577756189455, 1, 0, 0),\n",
       " (62, 0.606069269786005, 0.09038906872044758, 1, 0, 1),\n",
       " (62, 0.7648594683096447, 0.09051240495129631, 0, 1, 0),\n",
       " (59, 0.6661522023965165, 0.09880812570756778, 1, 1, 0),\n",
       " (39, 0.7522065367159995, 0.04004772356748641, 0, 1, 0),\n",
       " (55, 0.5485016466523557, 0.05684888618552877, 0, 1, 0),\n",
       " (68, 0.5535566589348466, 0.04148055099842509, 0, 1, 0),\n",
       " (65, 0.7703678229366828, 0.06447238489597716, 0, 1, 0),\n",
       " (62, 0.5779532419844655, 0.030942214538443046, 0, 1, 0),\n",
       " (43, 0.714171385037152, 0.08577137022463183, 0, 1, 0),\n",
       " (62, 0.551013157803394, 0.04179801922810318, 0, 1, 0)]"
      ]
     },
     "execution_count": 222,
     "metadata": {},
     "output_type": "execute_result"
    }
   ],
   "source": [
    "def dismatch(obj_1,obj_2):\n",
    "    age_f = abs(obj_1[0]-obj_2[0])/obj_1[0]\n",
    "    u_f = abs(obj_1[1]-obj_2[1])/obj_1[1]\n",
    "    sigma_f = abs(obj_1[2]-obj_2[2])/obj_1[2]\n",
    "    return  age_f+1*u_f+1*sigma_f\n",
    "\n",
    "male = []\n",
    "female = []\n",
    "d = []\n",
    "\n",
    "for i in range(83-1):\n",
    "    d.append((age[i],u[i],sigma[i],gender[i],tag[i]))\n",
    "    if gender[i] == 0: # male\n",
    "        male.append((age[i],u[i],sigma[i],tag[i]))\n",
    "    elif gender[i] == 1: # female\n",
    "        female.append((age[i],u[i],sigma[i],tag[i]))\n",
    "\n",
    "final_calcu = []\n",
    "for i in range(83-1):\n",
    "    obj_1 = d[i]\n",
    "    dismatching = []\n",
    "    if gender[i] == 1: # female looking for male counterfactual\n",
    "        for j in range(len(male)-1):\n",
    "            dismatching.append(dismatch(obj_1,male[j]))\n",
    "        best_match = np.array(male)[np.argmin(np.array(dismatching))]\n",
    "        final_calcu.append((d[i][0],d[i][1],d[i][2],d[i][3],d[i][4],int(best_match[3])))\n",
    "    elif gender[i] == 0: # male looking for female counterfactual\n",
    "        for j in range(len(female)-1):\n",
    "            dismatching.append(dismatch(obj_1,female[j]))  \n",
    "        best_match = np.array(female)[np.argmin(np.array(dismatching))]\n",
    "        final_calcu.append((d[i][0],d[i][1],d[i][2],d[i][3],d[i][4],int(best_match[3])))\n",
    "        # age,u,sigma,gender,tag_truth,tag_counterfactual\n",
    "final_calcu"
   ]
  },
  {
   "cell_type": "code",
   "execution_count": 226,
   "id": "9fdcde32",
   "metadata": {},
   "outputs": [
    {
     "name": "stdout",
     "output_type": "stream",
     "text": [
      "ATE_Pearson:0.1491891891891892;ATE_Pearl:0.1111111111111111\n"
     ]
    }
   ],
   "source": [
    "final_calcu = np.array(final_calcu)\n",
    "ATE_Pearl = (sum(final_calcu[:,4])-sum(final_calcu[:,5]))/(len(final_calcu)) ##########\n",
    "male_mean = 0\n",
    "male_count = 0\n",
    "female_mean = 0\n",
    "female_count = 0\n",
    "for i in range(len(final_calcu)-1):\n",
    "    if final_calcu[i,3] == 0: #male\n",
    "        male_count += 1\n",
    "        male_mean += final_calcu[i,4]\n",
    "    else: \n",
    "        female_count += 1\n",
    "        female_mean += final_calcu[i,4]\n",
    "ATE_Pearson = male_mean/male_count - female_mean/female_count\n",
    "print(\"ATE_Pearson:\"+str(ATE_Pearson)+\";ATE_Pearl:\"+str(ATE_Pearl))"
   ]
  }
 ],
 "metadata": {
  "kernelspec": {
   "display_name": "Python 3 (ipykernel)",
   "language": "python",
   "name": "python3"
  },
  "language_info": {
   "codemirror_mode": {
    "name": "ipython",
    "version": 3
   },
   "file_extension": ".py",
   "mimetype": "text/x-python",
   "name": "python",
   "nbconvert_exporter": "python",
   "pygments_lexer": "ipython3",
   "version": "3.7.11"
  }
 },
 "nbformat": 4,
 "nbformat_minor": 5
}
